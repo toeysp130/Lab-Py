{
  "nbformat": 4,
  "nbformat_minor": 0,
  "metadata": {
    "colab": {
      "name": "test_fn.ipynb",
      "provenance": [],
      "authorship_tag": "ABX9TyMQuhhhkDuBt1uV0fdCxCc6",
      "include_colab_link": true
    },
    "kernelspec": {
      "name": "python3",
      "display_name": "Python 3"
    },
    "language_info": {
      "name": "python"
    }
  },
  "cells": [
    {
      "cell_type": "markdown",
      "metadata": {
        "id": "view-in-github",
        "colab_type": "text"
      },
      "source": [
        "<a href=\"https://colab.research.google.com/github/toeysp130/Lab-Py/blob/master/AI_function.ipynb\" target=\"_parent\"><img src=\"https://colab.research.google.com/assets/colab-badge.svg\" alt=\"Open In Colab\"/></a>"
      ]
    },
    {
      "cell_type": "code",
      "metadata": {
        "colab": {
          "base_uri": "https://localhost:8080/"
        },
        "id": "SMScCYv1yJcW",
        "outputId": "57cabd72-0f3f-4442-affc-2ea091165790"
      },
      "source": [
        "graph = {\n",
        "'0' : ['1'],\n",
        "'1' : ['0','2'],\n",
        "'2' : ['1','3'],\n",
        "'3' : ['2','1'],\n",
        "'4' : ['3'],\n",
        "'5' : [],\n",
        "'6' : ['7','8'],\n",
        "'7' : ['6','8'],\n",
        "'8' : ['6','7'],\n",
        "}\n",
        "visited = [] # List to keep track of visited nodes.\n",
        "queue = [] #Initialize a queue\n",
        "result = []\n",
        "\n",
        "def bfs(visited, graph, node,final): \n",
        "  visited.append(node)\n",
        "  queue.append(node)\n",
        "  print('Output: ',end=\" \")\n",
        "  while queue: \n",
        "    s = queue.pop(0)\n",
        "    print (s, end = \" \")\n",
        "    if (s == final):\n",
        "        break\n",
        "    for neighbour in graph[s]: \n",
        "      if neighbour not in visited: \n",
        "        visited.append(neighbour)\n",
        "        queue.append(neighbour)\n",
        "\n",
        "# Driver Code\n",
        "inteial = input('Input Initial Node :')\n",
        "final = input('Input Final Node :')\n",
        "\n",
        "bfs(visited, graph, inteial,final)"
      ],
      "execution_count": 25,
      "outputs": [
        {
          "output_type": "stream",
          "text": [
            "Input Initial Node :7\n",
            "Input Final Node :8\n",
            "Output:  7 6 8 "
          ],
          "name": "stdout"
        }
      ]
    }
  ]
}